{
 "cells": [
  {
   "attachments": {},
   "cell_type": "markdown",
   "metadata": {},
   "source": [
    "# PHI Identification via SciSpaCy and MedSpaCy"
   ]
  },
  {
   "attachments": {},
   "cell_type": "markdown",
   "metadata": {},
   "source": [
    "# SciSpaCy\n",
    "* python package containing spaCy models for processing, biomedical, scientific, or clinical data\n",
    "* we will be using the en_ner_bc5cdr_md\tNER model\n",
    "    * this model is trained on the BC5CDR Corpus which consists of 1500 PubMed articles with 4409 annotated chemicals, 5818 diseases and 3116 chemical disease interactions"
   ]
  },
  {
   "cell_type": "code",
   "execution_count": 2,
   "metadata": {},
   "outputs": [
    {
     "name": "stdout",
     "output_type": "stream",
     "text": [
      "Requirement already satisfied: spacy in ./phi_venv/lib/python3.12/site-packages (3.7.5)\n",
      "Requirement already satisfied: spacy-legacy<3.1.0,>=3.0.11 in ./phi_venv/lib/python3.12/site-packages (from spacy) (3.0.12)\n",
      "Requirement already satisfied: spacy-loggers<2.0.0,>=1.0.0 in ./phi_venv/lib/python3.12/site-packages (from spacy) (1.0.5)\n",
      "Requirement already satisfied: murmurhash<1.1.0,>=0.28.0 in ./phi_venv/lib/python3.12/site-packages (from spacy) (1.0.11)\n",
      "Requirement already satisfied: cymem<2.1.0,>=2.0.2 in ./phi_venv/lib/python3.12/site-packages (from spacy) (2.0.10)\n",
      "Requirement already satisfied: preshed<3.1.0,>=3.0.2 in ./phi_venv/lib/python3.12/site-packages (from spacy) (3.0.9)\n",
      "Requirement already satisfied: thinc<8.3.0,>=8.2.2 in ./phi_venv/lib/python3.12/site-packages (from spacy) (8.2.5)\n",
      "Requirement already satisfied: wasabi<1.2.0,>=0.9.1 in ./phi_venv/lib/python3.12/site-packages (from spacy) (1.1.3)\n",
      "Requirement already satisfied: srsly<3.0.0,>=2.4.3 in ./phi_venv/lib/python3.12/site-packages (from spacy) (2.4.8)\n",
      "Requirement already satisfied: catalogue<2.1.0,>=2.0.6 in ./phi_venv/lib/python3.12/site-packages (from spacy) (2.0.10)\n",
      "Requirement already satisfied: weasel<0.5.0,>=0.1.0 in ./phi_venv/lib/python3.12/site-packages (from spacy) (0.4.1)\n",
      "Requirement already satisfied: typer<1.0.0,>=0.3.0 in ./phi_venv/lib/python3.12/site-packages (from spacy) (0.14.0)\n",
      "Requirement already satisfied: tqdm<5.0.0,>=4.38.0 in ./phi_venv/lib/python3.12/site-packages (from spacy) (4.67.1)\n",
      "Requirement already satisfied: requests<3.0.0,>=2.13.0 in ./phi_venv/lib/python3.12/site-packages (from spacy) (2.32.3)\n",
      "Requirement already satisfied: pydantic!=1.8,!=1.8.1,<3.0.0,>=1.7.4 in ./phi_venv/lib/python3.12/site-packages (from spacy) (2.10.2)\n",
      "Requirement already satisfied: jinja2 in ./phi_venv/lib/python3.12/site-packages (from spacy) (3.1.4)\n",
      "Requirement already satisfied: setuptools in ./phi_venv/lib/python3.12/site-packages (from spacy) (75.6.0)\n",
      "Requirement already satisfied: packaging>=20.0 in ./phi_venv/lib/python3.12/site-packages (from spacy) (24.2)\n",
      "Requirement already satisfied: langcodes<4.0.0,>=3.2.0 in ./phi_venv/lib/python3.12/site-packages (from spacy) (3.5.0)\n",
      "Requirement already satisfied: numpy>=1.19.0 in ./phi_venv/lib/python3.12/site-packages (from spacy) (1.26.4)\n",
      "Requirement already satisfied: language-data>=1.2 in ./phi_venv/lib/python3.12/site-packages (from langcodes<4.0.0,>=3.2.0->spacy) (1.3.0)\n",
      "Requirement already satisfied: annotated-types>=0.6.0 in ./phi_venv/lib/python3.12/site-packages (from pydantic!=1.8,!=1.8.1,<3.0.0,>=1.7.4->spacy) (0.7.0)\n",
      "Requirement already satisfied: pydantic-core==2.27.1 in ./phi_venv/lib/python3.12/site-packages (from pydantic!=1.8,!=1.8.1,<3.0.0,>=1.7.4->spacy) (2.27.1)\n",
      "Requirement already satisfied: typing-extensions>=4.12.2 in ./phi_venv/lib/python3.12/site-packages (from pydantic!=1.8,!=1.8.1,<3.0.0,>=1.7.4->spacy) (4.12.2)\n",
      "Requirement already satisfied: charset-normalizer<4,>=2 in ./phi_venv/lib/python3.12/site-packages (from requests<3.0.0,>=2.13.0->spacy) (3.4.0)\n",
      "Requirement already satisfied: idna<4,>=2.5 in ./phi_venv/lib/python3.12/site-packages (from requests<3.0.0,>=2.13.0->spacy) (3.10)\n",
      "Requirement already satisfied: urllib3<3,>=1.21.1 in ./phi_venv/lib/python3.12/site-packages (from requests<3.0.0,>=2.13.0->spacy) (2.2.3)\n",
      "Requirement already satisfied: certifi>=2017.4.17 in ./phi_venv/lib/python3.12/site-packages (from requests<3.0.0,>=2.13.0->spacy) (2024.8.30)\n",
      "Requirement already satisfied: blis<0.8.0,>=0.7.8 in ./phi_venv/lib/python3.12/site-packages (from thinc<8.3.0,>=8.2.2->spacy) (0.7.11)\n",
      "Requirement already satisfied: confection<1.0.0,>=0.0.1 in ./phi_venv/lib/python3.12/site-packages (from thinc<8.3.0,>=8.2.2->spacy) (0.1.5)\n",
      "Requirement already satisfied: click>=8.0.0 in ./phi_venv/lib/python3.12/site-packages (from typer<1.0.0,>=0.3.0->spacy) (8.1.7)\n",
      "Requirement already satisfied: shellingham>=1.3.0 in ./phi_venv/lib/python3.12/site-packages (from typer<1.0.0,>=0.3.0->spacy) (1.5.4)\n",
      "Requirement already satisfied: rich>=10.11.0 in ./phi_venv/lib/python3.12/site-packages (from typer<1.0.0,>=0.3.0->spacy) (13.9.4)\n",
      "Requirement already satisfied: cloudpathlib<1.0.0,>=0.7.0 in ./phi_venv/lib/python3.12/site-packages (from weasel<0.5.0,>=0.1.0->spacy) (0.20.0)\n",
      "Requirement already satisfied: smart-open<8.0.0,>=5.2.1 in ./phi_venv/lib/python3.12/site-packages (from weasel<0.5.0,>=0.1.0->spacy) (7.0.5)\n",
      "Requirement already satisfied: MarkupSafe>=2.0 in ./phi_venv/lib/python3.12/site-packages (from jinja2->spacy) (3.0.2)\n",
      "Requirement already satisfied: marisa-trie>=1.1.0 in ./phi_venv/lib/python3.12/site-packages (from language-data>=1.2->langcodes<4.0.0,>=3.2.0->spacy) (1.2.1)\n",
      "Requirement already satisfied: markdown-it-py>=2.2.0 in ./phi_venv/lib/python3.12/site-packages (from rich>=10.11.0->typer<1.0.0,>=0.3.0->spacy) (3.0.0)\n",
      "Requirement already satisfied: pygments<3.0.0,>=2.13.0 in ./phi_venv/lib/python3.12/site-packages (from rich>=10.11.0->typer<1.0.0,>=0.3.0->spacy) (2.18.0)\n",
      "Requirement already satisfied: wrapt in ./phi_venv/lib/python3.12/site-packages (from smart-open<8.0.0,>=5.2.1->weasel<0.5.0,>=0.1.0->spacy) (1.17.0)\n",
      "Requirement already satisfied: mdurl~=0.1 in ./phi_venv/lib/python3.12/site-packages (from markdown-it-py>=2.2.0->rich>=10.11.0->typer<1.0.0,>=0.3.0->spacy) (0.1.2)\n",
      "\n",
      "\u001b[1m[\u001b[0m\u001b[34;49mnotice\u001b[0m\u001b[1;39;49m]\u001b[0m\u001b[39;49m A new release of pip is available: \u001b[0m\u001b[31;49m24.0\u001b[0m\u001b[39;49m -> \u001b[0m\u001b[32;49m24.3.1\u001b[0m\n",
      "\u001b[1m[\u001b[0m\u001b[34;49mnotice\u001b[0m\u001b[1;39;49m]\u001b[0m\u001b[39;49m To update, run: \u001b[0m\u001b[32;49mpip install --upgrade pip\u001b[0m\n"
     ]
    }
   ],
   "source": [
    "# install spacy (for base NLP capabilities)\n",
    "!pip install spacy "
   ]
  },
  {
   "cell_type": "code",
   "execution_count": 9,
   "metadata": {},
   "outputs": [
    {
     "name": "stdout",
     "output_type": "stream",
     "text": [
      "Collecting https://s3-us-west-2.amazonaws.com/ai2-s2-scispacy/releases/v0.5.4/en_ner_bc5cdr_md-0.5.4.tar.gz\n",
      "  Using cached https://s3-us-west-2.amazonaws.com/ai2-s2-scispacy/releases/v0.5.4/en_ner_bc5cdr_md-0.5.4.tar.gz (119.8 MB)\n",
      "  Installing build dependencies ... \u001b[?25ldone\n",
      "\u001b[?25h  Getting requirements to build wheel ... \u001b[?25ldone\n",
      "\u001b[?25h  Preparing metadata (pyproject.toml) ... \u001b[?25ldone\n",
      "\u001b[?25hRequirement already satisfied: spacy<3.8.0,>=3.7.4 in ./phi_venv/lib/python3.12/site-packages (from en_ner_bc5cdr_md==0.5.4) (3.7.5)\n",
      "Requirement already satisfied: spacy-legacy<3.1.0,>=3.0.11 in ./phi_venv/lib/python3.12/site-packages (from spacy<3.8.0,>=3.7.4->en_ner_bc5cdr_md==0.5.4) (3.0.12)\n",
      "Requirement already satisfied: spacy-loggers<2.0.0,>=1.0.0 in ./phi_venv/lib/python3.12/site-packages (from spacy<3.8.0,>=3.7.4->en_ner_bc5cdr_md==0.5.4) (1.0.5)\n",
      "Requirement already satisfied: murmurhash<1.1.0,>=0.28.0 in ./phi_venv/lib/python3.12/site-packages (from spacy<3.8.0,>=3.7.4->en_ner_bc5cdr_md==0.5.4) (1.0.11)\n",
      "Requirement already satisfied: cymem<2.1.0,>=2.0.2 in ./phi_venv/lib/python3.12/site-packages (from spacy<3.8.0,>=3.7.4->en_ner_bc5cdr_md==0.5.4) (2.0.10)\n",
      "Requirement already satisfied: preshed<3.1.0,>=3.0.2 in ./phi_venv/lib/python3.12/site-packages (from spacy<3.8.0,>=3.7.4->en_ner_bc5cdr_md==0.5.4) (3.0.9)\n",
      "Requirement already satisfied: thinc<8.3.0,>=8.2.2 in ./phi_venv/lib/python3.12/site-packages (from spacy<3.8.0,>=3.7.4->en_ner_bc5cdr_md==0.5.4) (8.2.5)\n",
      "Requirement already satisfied: wasabi<1.2.0,>=0.9.1 in ./phi_venv/lib/python3.12/site-packages (from spacy<3.8.0,>=3.7.4->en_ner_bc5cdr_md==0.5.4) (1.1.3)\n",
      "Requirement already satisfied: srsly<3.0.0,>=2.4.3 in ./phi_venv/lib/python3.12/site-packages (from spacy<3.8.0,>=3.7.4->en_ner_bc5cdr_md==0.5.4) (2.4.8)\n",
      "Requirement already satisfied: catalogue<2.1.0,>=2.0.6 in ./phi_venv/lib/python3.12/site-packages (from spacy<3.8.0,>=3.7.4->en_ner_bc5cdr_md==0.5.4) (2.0.10)\n",
      "Requirement already satisfied: weasel<0.5.0,>=0.1.0 in ./phi_venv/lib/python3.12/site-packages (from spacy<3.8.0,>=3.7.4->en_ner_bc5cdr_md==0.5.4) (0.4.1)\n",
      "Requirement already satisfied: typer<1.0.0,>=0.3.0 in ./phi_venv/lib/python3.12/site-packages (from spacy<3.8.0,>=3.7.4->en_ner_bc5cdr_md==0.5.4) (0.14.0)\n",
      "Requirement already satisfied: tqdm<5.0.0,>=4.38.0 in ./phi_venv/lib/python3.12/site-packages (from spacy<3.8.0,>=3.7.4->en_ner_bc5cdr_md==0.5.4) (4.67.1)\n",
      "Requirement already satisfied: requests<3.0.0,>=2.13.0 in ./phi_venv/lib/python3.12/site-packages (from spacy<3.8.0,>=3.7.4->en_ner_bc5cdr_md==0.5.4) (2.32.3)\n",
      "Requirement already satisfied: pydantic!=1.8,!=1.8.1,<3.0.0,>=1.7.4 in ./phi_venv/lib/python3.12/site-packages (from spacy<3.8.0,>=3.7.4->en_ner_bc5cdr_md==0.5.4) (2.10.2)\n",
      "Requirement already satisfied: jinja2 in ./phi_venv/lib/python3.12/site-packages (from spacy<3.8.0,>=3.7.4->en_ner_bc5cdr_md==0.5.4) (3.1.4)\n",
      "Requirement already satisfied: setuptools in ./phi_venv/lib/python3.12/site-packages (from spacy<3.8.0,>=3.7.4->en_ner_bc5cdr_md==0.5.4) (75.6.0)\n",
      "Requirement already satisfied: packaging>=20.0 in ./phi_venv/lib/python3.12/site-packages (from spacy<3.8.0,>=3.7.4->en_ner_bc5cdr_md==0.5.4) (24.2)\n",
      "Requirement already satisfied: langcodes<4.0.0,>=3.2.0 in ./phi_venv/lib/python3.12/site-packages (from spacy<3.8.0,>=3.7.4->en_ner_bc5cdr_md==0.5.4) (3.5.0)\n",
      "Requirement already satisfied: numpy>=1.19.0 in ./phi_venv/lib/python3.12/site-packages (from spacy<3.8.0,>=3.7.4->en_ner_bc5cdr_md==0.5.4) (1.26.4)\n",
      "Requirement already satisfied: language-data>=1.2 in ./phi_venv/lib/python3.12/site-packages (from langcodes<4.0.0,>=3.2.0->spacy<3.8.0,>=3.7.4->en_ner_bc5cdr_md==0.5.4) (1.3.0)\n",
      "Requirement already satisfied: annotated-types>=0.6.0 in ./phi_venv/lib/python3.12/site-packages (from pydantic!=1.8,!=1.8.1,<3.0.0,>=1.7.4->spacy<3.8.0,>=3.7.4->en_ner_bc5cdr_md==0.5.4) (0.7.0)\n",
      "Requirement already satisfied: pydantic-core==2.27.1 in ./phi_venv/lib/python3.12/site-packages (from pydantic!=1.8,!=1.8.1,<3.0.0,>=1.7.4->spacy<3.8.0,>=3.7.4->en_ner_bc5cdr_md==0.5.4) (2.27.1)\n",
      "Requirement already satisfied: typing-extensions>=4.12.2 in ./phi_venv/lib/python3.12/site-packages (from pydantic!=1.8,!=1.8.1,<3.0.0,>=1.7.4->spacy<3.8.0,>=3.7.4->en_ner_bc5cdr_md==0.5.4) (4.12.2)\n",
      "Requirement already satisfied: charset-normalizer<4,>=2 in ./phi_venv/lib/python3.12/site-packages (from requests<3.0.0,>=2.13.0->spacy<3.8.0,>=3.7.4->en_ner_bc5cdr_md==0.5.4) (3.4.0)\n",
      "Requirement already satisfied: idna<4,>=2.5 in ./phi_venv/lib/python3.12/site-packages (from requests<3.0.0,>=2.13.0->spacy<3.8.0,>=3.7.4->en_ner_bc5cdr_md==0.5.4) (3.10)\n",
      "Requirement already satisfied: urllib3<3,>=1.21.1 in ./phi_venv/lib/python3.12/site-packages (from requests<3.0.0,>=2.13.0->spacy<3.8.0,>=3.7.4->en_ner_bc5cdr_md==0.5.4) (2.2.3)\n",
      "Requirement already satisfied: certifi>=2017.4.17 in ./phi_venv/lib/python3.12/site-packages (from requests<3.0.0,>=2.13.0->spacy<3.8.0,>=3.7.4->en_ner_bc5cdr_md==0.5.4) (2024.8.30)\n",
      "Requirement already satisfied: blis<0.8.0,>=0.7.8 in ./phi_venv/lib/python3.12/site-packages (from thinc<8.3.0,>=8.2.2->spacy<3.8.0,>=3.7.4->en_ner_bc5cdr_md==0.5.4) (0.7.11)\n",
      "Requirement already satisfied: confection<1.0.0,>=0.0.1 in ./phi_venv/lib/python3.12/site-packages (from thinc<8.3.0,>=8.2.2->spacy<3.8.0,>=3.7.4->en_ner_bc5cdr_md==0.5.4) (0.1.5)\n",
      "Requirement already satisfied: click>=8.0.0 in ./phi_venv/lib/python3.12/site-packages (from typer<1.0.0,>=0.3.0->spacy<3.8.0,>=3.7.4->en_ner_bc5cdr_md==0.5.4) (8.1.7)\n",
      "Requirement already satisfied: shellingham>=1.3.0 in ./phi_venv/lib/python3.12/site-packages (from typer<1.0.0,>=0.3.0->spacy<3.8.0,>=3.7.4->en_ner_bc5cdr_md==0.5.4) (1.5.4)\n",
      "Requirement already satisfied: rich>=10.11.0 in ./phi_venv/lib/python3.12/site-packages (from typer<1.0.0,>=0.3.0->spacy<3.8.0,>=3.7.4->en_ner_bc5cdr_md==0.5.4) (13.9.4)\n",
      "Requirement already satisfied: cloudpathlib<1.0.0,>=0.7.0 in ./phi_venv/lib/python3.12/site-packages (from weasel<0.5.0,>=0.1.0->spacy<3.8.0,>=3.7.4->en_ner_bc5cdr_md==0.5.4) (0.20.0)\n",
      "Requirement already satisfied: smart-open<8.0.0,>=5.2.1 in ./phi_venv/lib/python3.12/site-packages (from weasel<0.5.0,>=0.1.0->spacy<3.8.0,>=3.7.4->en_ner_bc5cdr_md==0.5.4) (7.0.5)\n",
      "Requirement already satisfied: MarkupSafe>=2.0 in ./phi_venv/lib/python3.12/site-packages (from jinja2->spacy<3.8.0,>=3.7.4->en_ner_bc5cdr_md==0.5.4) (3.0.2)\n",
      "Requirement already satisfied: marisa-trie>=1.1.0 in ./phi_venv/lib/python3.12/site-packages (from language-data>=1.2->langcodes<4.0.0,>=3.2.0->spacy<3.8.0,>=3.7.4->en_ner_bc5cdr_md==0.5.4) (1.2.1)\n",
      "Requirement already satisfied: markdown-it-py>=2.2.0 in ./phi_venv/lib/python3.12/site-packages (from rich>=10.11.0->typer<1.0.0,>=0.3.0->spacy<3.8.0,>=3.7.4->en_ner_bc5cdr_md==0.5.4) (3.0.0)\n",
      "Requirement already satisfied: pygments<3.0.0,>=2.13.0 in ./phi_venv/lib/python3.12/site-packages (from rich>=10.11.0->typer<1.0.0,>=0.3.0->spacy<3.8.0,>=3.7.4->en_ner_bc5cdr_md==0.5.4) (2.18.0)\n",
      "Requirement already satisfied: wrapt in ./phi_venv/lib/python3.12/site-packages (from smart-open<8.0.0,>=5.2.1->weasel<0.5.0,>=0.1.0->spacy<3.8.0,>=3.7.4->en_ner_bc5cdr_md==0.5.4) (1.17.0)\n",
      "Requirement already satisfied: mdurl~=0.1 in ./phi_venv/lib/python3.12/site-packages (from markdown-it-py>=2.2.0->rich>=10.11.0->typer<1.0.0,>=0.3.0->spacy<3.8.0,>=3.7.4->en_ner_bc5cdr_md==0.5.4) (0.1.2)\n",
      "\n",
      "\u001b[1m[\u001b[0m\u001b[34;49mnotice\u001b[0m\u001b[1;39;49m]\u001b[0m\u001b[39;49m A new release of pip is available: \u001b[0m\u001b[31;49m24.0\u001b[0m\u001b[39;49m -> \u001b[0m\u001b[32;49m24.3.1\u001b[0m\n",
      "\u001b[1m[\u001b[0m\u001b[34;49mnotice\u001b[0m\u001b[1;39;49m]\u001b[0m\u001b[39;49m To update, run: \u001b[0m\u001b[32;49mpip install --upgrade pip\u001b[0m\n"
     ]
    }
   ],
   "source": [
    "# install en_ner_bc5cdr_md model for named entity recognition (NER)\n",
    "!pip install https://s3-us-west-2.amazonaws.com/ai2-s2-scispacy/releases/v0.5.4/en_ner_bc5cdr_md-0.5.4.tar.gz"
   ]
  },
  {
   "cell_type": "code",
   "execution_count": 10,
   "metadata": {},
   "outputs": [
    {
     "name": "stdout",
     "output_type": "stream",
     "text": [
      "Collecting en-core-web-sm==3.7.1\n",
      "  Downloading https://github.com/explosion/spacy-models/releases/download/en_core_web_sm-3.7.1/en_core_web_sm-3.7.1-py3-none-any.whl (12.8 MB)\n",
      "\u001b[2K     \u001b[90m━━━━━━━━━━━━━━━━━━━━━━━━━━━━━━━━━━━━━━━━\u001b[0m \u001b[32m12.8/12.8 MB\u001b[0m \u001b[31m37.9 MB/s\u001b[0m eta \u001b[36m0:00:00\u001b[0m00:01\u001b[0m00:01\u001b[0m\n",
      "\u001b[?25hRequirement already satisfied: spacy<3.8.0,>=3.7.2 in ./phi_venv/lib/python3.12/site-packages (from en-core-web-sm==3.7.1) (3.7.5)\n",
      "Requirement already satisfied: spacy-legacy<3.1.0,>=3.0.11 in ./phi_venv/lib/python3.12/site-packages (from spacy<3.8.0,>=3.7.2->en-core-web-sm==3.7.1) (3.0.12)\n",
      "Requirement already satisfied: spacy-loggers<2.0.0,>=1.0.0 in ./phi_venv/lib/python3.12/site-packages (from spacy<3.8.0,>=3.7.2->en-core-web-sm==3.7.1) (1.0.5)\n",
      "Requirement already satisfied: murmurhash<1.1.0,>=0.28.0 in ./phi_venv/lib/python3.12/site-packages (from spacy<3.8.0,>=3.7.2->en-core-web-sm==3.7.1) (1.0.11)\n",
      "Requirement already satisfied: cymem<2.1.0,>=2.0.2 in ./phi_venv/lib/python3.12/site-packages (from spacy<3.8.0,>=3.7.2->en-core-web-sm==3.7.1) (2.0.10)\n",
      "Requirement already satisfied: preshed<3.1.0,>=3.0.2 in ./phi_venv/lib/python3.12/site-packages (from spacy<3.8.0,>=3.7.2->en-core-web-sm==3.7.1) (3.0.9)\n",
      "Requirement already satisfied: thinc<8.3.0,>=8.2.2 in ./phi_venv/lib/python3.12/site-packages (from spacy<3.8.0,>=3.7.2->en-core-web-sm==3.7.1) (8.2.5)\n",
      "Requirement already satisfied: wasabi<1.2.0,>=0.9.1 in ./phi_venv/lib/python3.12/site-packages (from spacy<3.8.0,>=3.7.2->en-core-web-sm==3.7.1) (1.1.3)\n",
      "Requirement already satisfied: srsly<3.0.0,>=2.4.3 in ./phi_venv/lib/python3.12/site-packages (from spacy<3.8.0,>=3.7.2->en-core-web-sm==3.7.1) (2.4.8)\n",
      "Requirement already satisfied: catalogue<2.1.0,>=2.0.6 in ./phi_venv/lib/python3.12/site-packages (from spacy<3.8.0,>=3.7.2->en-core-web-sm==3.7.1) (2.0.10)\n",
      "Requirement already satisfied: weasel<0.5.0,>=0.1.0 in ./phi_venv/lib/python3.12/site-packages (from spacy<3.8.0,>=3.7.2->en-core-web-sm==3.7.1) (0.4.1)\n",
      "Requirement already satisfied: typer<1.0.0,>=0.3.0 in ./phi_venv/lib/python3.12/site-packages (from spacy<3.8.0,>=3.7.2->en-core-web-sm==3.7.1) (0.14.0)\n",
      "Requirement already satisfied: tqdm<5.0.0,>=4.38.0 in ./phi_venv/lib/python3.12/site-packages (from spacy<3.8.0,>=3.7.2->en-core-web-sm==3.7.1) (4.67.1)\n",
      "Requirement already satisfied: requests<3.0.0,>=2.13.0 in ./phi_venv/lib/python3.12/site-packages (from spacy<3.8.0,>=3.7.2->en-core-web-sm==3.7.1) (2.32.3)\n",
      "Requirement already satisfied: pydantic!=1.8,!=1.8.1,<3.0.0,>=1.7.4 in ./phi_venv/lib/python3.12/site-packages (from spacy<3.8.0,>=3.7.2->en-core-web-sm==3.7.1) (2.10.2)\n",
      "Requirement already satisfied: jinja2 in ./phi_venv/lib/python3.12/site-packages (from spacy<3.8.0,>=3.7.2->en-core-web-sm==3.7.1) (3.1.4)\n",
      "Requirement already satisfied: setuptools in ./phi_venv/lib/python3.12/site-packages (from spacy<3.8.0,>=3.7.2->en-core-web-sm==3.7.1) (75.6.0)\n",
      "Requirement already satisfied: packaging>=20.0 in ./phi_venv/lib/python3.12/site-packages (from spacy<3.8.0,>=3.7.2->en-core-web-sm==3.7.1) (24.2)\n",
      "Requirement already satisfied: langcodes<4.0.0,>=3.2.0 in ./phi_venv/lib/python3.12/site-packages (from spacy<3.8.0,>=3.7.2->en-core-web-sm==3.7.1) (3.5.0)\n",
      "Requirement already satisfied: numpy>=1.19.0 in ./phi_venv/lib/python3.12/site-packages (from spacy<3.8.0,>=3.7.2->en-core-web-sm==3.7.1) (1.26.4)\n",
      "Requirement already satisfied: language-data>=1.2 in ./phi_venv/lib/python3.12/site-packages (from langcodes<4.0.0,>=3.2.0->spacy<3.8.0,>=3.7.2->en-core-web-sm==3.7.1) (1.3.0)\n",
      "Requirement already satisfied: annotated-types>=0.6.0 in ./phi_venv/lib/python3.12/site-packages (from pydantic!=1.8,!=1.8.1,<3.0.0,>=1.7.4->spacy<3.8.0,>=3.7.2->en-core-web-sm==3.7.1) (0.7.0)\n",
      "Requirement already satisfied: pydantic-core==2.27.1 in ./phi_venv/lib/python3.12/site-packages (from pydantic!=1.8,!=1.8.1,<3.0.0,>=1.7.4->spacy<3.8.0,>=3.7.2->en-core-web-sm==3.7.1) (2.27.1)\n",
      "Requirement already satisfied: typing-extensions>=4.12.2 in ./phi_venv/lib/python3.12/site-packages (from pydantic!=1.8,!=1.8.1,<3.0.0,>=1.7.4->spacy<3.8.0,>=3.7.2->en-core-web-sm==3.7.1) (4.12.2)\n",
      "Requirement already satisfied: charset-normalizer<4,>=2 in ./phi_venv/lib/python3.12/site-packages (from requests<3.0.0,>=2.13.0->spacy<3.8.0,>=3.7.2->en-core-web-sm==3.7.1) (3.4.0)\n",
      "Requirement already satisfied: idna<4,>=2.5 in ./phi_venv/lib/python3.12/site-packages (from requests<3.0.0,>=2.13.0->spacy<3.8.0,>=3.7.2->en-core-web-sm==3.7.1) (3.10)\n",
      "Requirement already satisfied: urllib3<3,>=1.21.1 in ./phi_venv/lib/python3.12/site-packages (from requests<3.0.0,>=2.13.0->spacy<3.8.0,>=3.7.2->en-core-web-sm==3.7.1) (2.2.3)\n",
      "Requirement already satisfied: certifi>=2017.4.17 in ./phi_venv/lib/python3.12/site-packages (from requests<3.0.0,>=2.13.0->spacy<3.8.0,>=3.7.2->en-core-web-sm==3.7.1) (2024.8.30)\n",
      "Requirement already satisfied: blis<0.8.0,>=0.7.8 in ./phi_venv/lib/python3.12/site-packages (from thinc<8.3.0,>=8.2.2->spacy<3.8.0,>=3.7.2->en-core-web-sm==3.7.1) (0.7.11)\n",
      "Requirement already satisfied: confection<1.0.0,>=0.0.1 in ./phi_venv/lib/python3.12/site-packages (from thinc<8.3.0,>=8.2.2->spacy<3.8.0,>=3.7.2->en-core-web-sm==3.7.1) (0.1.5)\n",
      "Requirement already satisfied: click>=8.0.0 in ./phi_venv/lib/python3.12/site-packages (from typer<1.0.0,>=0.3.0->spacy<3.8.0,>=3.7.2->en-core-web-sm==3.7.1) (8.1.7)\n",
      "Requirement already satisfied: shellingham>=1.3.0 in ./phi_venv/lib/python3.12/site-packages (from typer<1.0.0,>=0.3.0->spacy<3.8.0,>=3.7.2->en-core-web-sm==3.7.1) (1.5.4)\n",
      "Requirement already satisfied: rich>=10.11.0 in ./phi_venv/lib/python3.12/site-packages (from typer<1.0.0,>=0.3.0->spacy<3.8.0,>=3.7.2->en-core-web-sm==3.7.1) (13.9.4)\n",
      "Requirement already satisfied: cloudpathlib<1.0.0,>=0.7.0 in ./phi_venv/lib/python3.12/site-packages (from weasel<0.5.0,>=0.1.0->spacy<3.8.0,>=3.7.2->en-core-web-sm==3.7.1) (0.20.0)\n",
      "Requirement already satisfied: smart-open<8.0.0,>=5.2.1 in ./phi_venv/lib/python3.12/site-packages (from weasel<0.5.0,>=0.1.0->spacy<3.8.0,>=3.7.2->en-core-web-sm==3.7.1) (7.0.5)\n",
      "Requirement already satisfied: MarkupSafe>=2.0 in ./phi_venv/lib/python3.12/site-packages (from jinja2->spacy<3.8.0,>=3.7.2->en-core-web-sm==3.7.1) (3.0.2)\n",
      "Requirement already satisfied: marisa-trie>=1.1.0 in ./phi_venv/lib/python3.12/site-packages (from language-data>=1.2->langcodes<4.0.0,>=3.2.0->spacy<3.8.0,>=3.7.2->en-core-web-sm==3.7.1) (1.2.1)\n",
      "Requirement already satisfied: markdown-it-py>=2.2.0 in ./phi_venv/lib/python3.12/site-packages (from rich>=10.11.0->typer<1.0.0,>=0.3.0->spacy<3.8.0,>=3.7.2->en-core-web-sm==3.7.1) (3.0.0)\n",
      "Requirement already satisfied: pygments<3.0.0,>=2.13.0 in ./phi_venv/lib/python3.12/site-packages (from rich>=10.11.0->typer<1.0.0,>=0.3.0->spacy<3.8.0,>=3.7.2->en-core-web-sm==3.7.1) (2.18.0)\n",
      "Requirement already satisfied: wrapt in ./phi_venv/lib/python3.12/site-packages (from smart-open<8.0.0,>=5.2.1->weasel<0.5.0,>=0.1.0->spacy<3.8.0,>=3.7.2->en-core-web-sm==3.7.1) (1.17.0)\n",
      "Requirement already satisfied: mdurl~=0.1 in ./phi_venv/lib/python3.12/site-packages (from markdown-it-py>=2.2.0->rich>=10.11.0->typer<1.0.0,>=0.3.0->spacy<3.8.0,>=3.7.2->en-core-web-sm==3.7.1) (0.1.2)\n",
      "\n",
      "\u001b[1m[\u001b[0m\u001b[34;49mnotice\u001b[0m\u001b[1;39;49m]\u001b[0m\u001b[39;49m A new release of pip is available: \u001b[0m\u001b[31;49m24.0\u001b[0m\u001b[39;49m -> \u001b[0m\u001b[32;49m24.3.1\u001b[0m\n",
      "\u001b[1m[\u001b[0m\u001b[34;49mnotice\u001b[0m\u001b[1;39;49m]\u001b[0m\u001b[39;49m To update, run: \u001b[0m\u001b[32;49mpip install --upgrade pip\u001b[0m\n",
      "\u001b[38;5;2m✔ Download and installation successful\u001b[0m\n",
      "You can now load the package via spacy.load('en_core_web_sm')\n"
     ]
    }
   ],
   "source": [
    "# install base spacy english small model\n",
    "!python -m spacy download en_core_web_sm\n"
   ]
  },
  {
   "cell_type": "code",
   "execution_count": 11,
   "metadata": {},
   "outputs": [
    {
     "name": "stdout",
     "output_type": "stream",
     "text": [
      "Requirement already satisfied: scispacy in ./phi_venv/lib/python3.12/site-packages (0.5.5)\n",
      "Requirement already satisfied: spacy<3.8.0,>=3.7.0 in ./phi_venv/lib/python3.12/site-packages (from scispacy) (3.7.5)\n",
      "Requirement already satisfied: scipy in ./phi_venv/lib/python3.12/site-packages (from scispacy) (1.14.1)\n",
      "Requirement already satisfied: requests<3.0.0,>=2.0.0 in ./phi_venv/lib/python3.12/site-packages (from scispacy) (2.32.3)\n",
      "Requirement already satisfied: conllu in ./phi_venv/lib/python3.12/site-packages (from scispacy) (6.0.0)\n",
      "Requirement already satisfied: numpy in ./phi_venv/lib/python3.12/site-packages (from scispacy) (1.26.4)\n",
      "Requirement already satisfied: joblib in ./phi_venv/lib/python3.12/site-packages (from scispacy) (1.4.2)\n",
      "Requirement already satisfied: scikit-learn>=0.20.3 in ./phi_venv/lib/python3.12/site-packages (from scispacy) (1.5.2)\n",
      "Requirement already satisfied: pysbd in ./phi_venv/lib/python3.12/site-packages (from scispacy) (0.3.4)\n",
      "Requirement already satisfied: nmslib-metabrainz==2.1.3 in ./phi_venv/lib/python3.12/site-packages (from scispacy) (2.1.3)\n",
      "Requirement already satisfied: pybind11>=2.2.3 in ./phi_venv/lib/python3.12/site-packages (from nmslib-metabrainz==2.1.3->scispacy) (2.13.6)\n",
      "Requirement already satisfied: psutil in ./phi_venv/lib/python3.12/site-packages (from nmslib-metabrainz==2.1.3->scispacy) (6.1.0)\n",
      "Requirement already satisfied: charset-normalizer<4,>=2 in ./phi_venv/lib/python3.12/site-packages (from requests<3.0.0,>=2.0.0->scispacy) (3.4.0)\n",
      "Requirement already satisfied: idna<4,>=2.5 in ./phi_venv/lib/python3.12/site-packages (from requests<3.0.0,>=2.0.0->scispacy) (3.10)\n",
      "Requirement already satisfied: urllib3<3,>=1.21.1 in ./phi_venv/lib/python3.12/site-packages (from requests<3.0.0,>=2.0.0->scispacy) (2.2.3)\n",
      "Requirement already satisfied: certifi>=2017.4.17 in ./phi_venv/lib/python3.12/site-packages (from requests<3.0.0,>=2.0.0->scispacy) (2024.8.30)\n",
      "Requirement already satisfied: threadpoolctl>=3.1.0 in ./phi_venv/lib/python3.12/site-packages (from scikit-learn>=0.20.3->scispacy) (3.5.0)\n",
      "Requirement already satisfied: spacy-legacy<3.1.0,>=3.0.11 in ./phi_venv/lib/python3.12/site-packages (from spacy<3.8.0,>=3.7.0->scispacy) (3.0.12)\n",
      "Requirement already satisfied: spacy-loggers<2.0.0,>=1.0.0 in ./phi_venv/lib/python3.12/site-packages (from spacy<3.8.0,>=3.7.0->scispacy) (1.0.5)\n",
      "Requirement already satisfied: murmurhash<1.1.0,>=0.28.0 in ./phi_venv/lib/python3.12/site-packages (from spacy<3.8.0,>=3.7.0->scispacy) (1.0.11)\n",
      "Requirement already satisfied: cymem<2.1.0,>=2.0.2 in ./phi_venv/lib/python3.12/site-packages (from spacy<3.8.0,>=3.7.0->scispacy) (2.0.10)\n",
      "Requirement already satisfied: preshed<3.1.0,>=3.0.2 in ./phi_venv/lib/python3.12/site-packages (from spacy<3.8.0,>=3.7.0->scispacy) (3.0.9)\n",
      "Requirement already satisfied: thinc<8.3.0,>=8.2.2 in ./phi_venv/lib/python3.12/site-packages (from spacy<3.8.0,>=3.7.0->scispacy) (8.2.5)\n",
      "Requirement already satisfied: wasabi<1.2.0,>=0.9.1 in ./phi_venv/lib/python3.12/site-packages (from spacy<3.8.0,>=3.7.0->scispacy) (1.1.3)\n",
      "Requirement already satisfied: srsly<3.0.0,>=2.4.3 in ./phi_venv/lib/python3.12/site-packages (from spacy<3.8.0,>=3.7.0->scispacy) (2.4.8)\n",
      "Requirement already satisfied: catalogue<2.1.0,>=2.0.6 in ./phi_venv/lib/python3.12/site-packages (from spacy<3.8.0,>=3.7.0->scispacy) (2.0.10)\n",
      "Requirement already satisfied: weasel<0.5.0,>=0.1.0 in ./phi_venv/lib/python3.12/site-packages (from spacy<3.8.0,>=3.7.0->scispacy) (0.4.1)\n",
      "Requirement already satisfied: typer<1.0.0,>=0.3.0 in ./phi_venv/lib/python3.12/site-packages (from spacy<3.8.0,>=3.7.0->scispacy) (0.14.0)\n",
      "Requirement already satisfied: tqdm<5.0.0,>=4.38.0 in ./phi_venv/lib/python3.12/site-packages (from spacy<3.8.0,>=3.7.0->scispacy) (4.67.1)\n",
      "Requirement already satisfied: pydantic!=1.8,!=1.8.1,<3.0.0,>=1.7.4 in ./phi_venv/lib/python3.12/site-packages (from spacy<3.8.0,>=3.7.0->scispacy) (2.10.2)\n",
      "Requirement already satisfied: jinja2 in ./phi_venv/lib/python3.12/site-packages (from spacy<3.8.0,>=3.7.0->scispacy) (3.1.4)\n",
      "Requirement already satisfied: setuptools in ./phi_venv/lib/python3.12/site-packages (from spacy<3.8.0,>=3.7.0->scispacy) (75.6.0)\n",
      "Requirement already satisfied: packaging>=20.0 in ./phi_venv/lib/python3.12/site-packages (from spacy<3.8.0,>=3.7.0->scispacy) (24.2)\n",
      "Requirement already satisfied: langcodes<4.0.0,>=3.2.0 in ./phi_venv/lib/python3.12/site-packages (from spacy<3.8.0,>=3.7.0->scispacy) (3.5.0)\n",
      "Requirement already satisfied: language-data>=1.2 in ./phi_venv/lib/python3.12/site-packages (from langcodes<4.0.0,>=3.2.0->spacy<3.8.0,>=3.7.0->scispacy) (1.3.0)\n",
      "Requirement already satisfied: annotated-types>=0.6.0 in ./phi_venv/lib/python3.12/site-packages (from pydantic!=1.8,!=1.8.1,<3.0.0,>=1.7.4->spacy<3.8.0,>=3.7.0->scispacy) (0.7.0)\n",
      "Requirement already satisfied: pydantic-core==2.27.1 in ./phi_venv/lib/python3.12/site-packages (from pydantic!=1.8,!=1.8.1,<3.0.0,>=1.7.4->spacy<3.8.0,>=3.7.0->scispacy) (2.27.1)\n",
      "Requirement already satisfied: typing-extensions>=4.12.2 in ./phi_venv/lib/python3.12/site-packages (from pydantic!=1.8,!=1.8.1,<3.0.0,>=1.7.4->spacy<3.8.0,>=3.7.0->scispacy) (4.12.2)\n",
      "Requirement already satisfied: blis<0.8.0,>=0.7.8 in ./phi_venv/lib/python3.12/site-packages (from thinc<8.3.0,>=8.2.2->spacy<3.8.0,>=3.7.0->scispacy) (0.7.11)\n",
      "Requirement already satisfied: confection<1.0.0,>=0.0.1 in ./phi_venv/lib/python3.12/site-packages (from thinc<8.3.0,>=8.2.2->spacy<3.8.0,>=3.7.0->scispacy) (0.1.5)\n",
      "Requirement already satisfied: click>=8.0.0 in ./phi_venv/lib/python3.12/site-packages (from typer<1.0.0,>=0.3.0->spacy<3.8.0,>=3.7.0->scispacy) (8.1.7)\n",
      "Requirement already satisfied: shellingham>=1.3.0 in ./phi_venv/lib/python3.12/site-packages (from typer<1.0.0,>=0.3.0->spacy<3.8.0,>=3.7.0->scispacy) (1.5.4)\n",
      "Requirement already satisfied: rich>=10.11.0 in ./phi_venv/lib/python3.12/site-packages (from typer<1.0.0,>=0.3.0->spacy<3.8.0,>=3.7.0->scispacy) (13.9.4)\n",
      "Requirement already satisfied: cloudpathlib<1.0.0,>=0.7.0 in ./phi_venv/lib/python3.12/site-packages (from weasel<0.5.0,>=0.1.0->spacy<3.8.0,>=3.7.0->scispacy) (0.20.0)\n",
      "Requirement already satisfied: smart-open<8.0.0,>=5.2.1 in ./phi_venv/lib/python3.12/site-packages (from weasel<0.5.0,>=0.1.0->spacy<3.8.0,>=3.7.0->scispacy) (7.0.5)\n",
      "Requirement already satisfied: MarkupSafe>=2.0 in ./phi_venv/lib/python3.12/site-packages (from jinja2->spacy<3.8.0,>=3.7.0->scispacy) (3.0.2)\n",
      "Requirement already satisfied: marisa-trie>=1.1.0 in ./phi_venv/lib/python3.12/site-packages (from language-data>=1.2->langcodes<4.0.0,>=3.2.0->spacy<3.8.0,>=3.7.0->scispacy) (1.2.1)\n",
      "Requirement already satisfied: markdown-it-py>=2.2.0 in ./phi_venv/lib/python3.12/site-packages (from rich>=10.11.0->typer<1.0.0,>=0.3.0->spacy<3.8.0,>=3.7.0->scispacy) (3.0.0)\n",
      "Requirement already satisfied: pygments<3.0.0,>=2.13.0 in ./phi_venv/lib/python3.12/site-packages (from rich>=10.11.0->typer<1.0.0,>=0.3.0->spacy<3.8.0,>=3.7.0->scispacy) (2.18.0)\n",
      "Requirement already satisfied: wrapt in ./phi_venv/lib/python3.12/site-packages (from smart-open<8.0.0,>=5.2.1->weasel<0.5.0,>=0.1.0->spacy<3.8.0,>=3.7.0->scispacy) (1.17.0)\n",
      "Requirement already satisfied: mdurl~=0.1 in ./phi_venv/lib/python3.12/site-packages (from markdown-it-py>=2.2.0->rich>=10.11.0->typer<1.0.0,>=0.3.0->spacy<3.8.0,>=3.7.0->scispacy) (0.1.2)\n",
      "\n",
      "\u001b[1m[\u001b[0m\u001b[34;49mnotice\u001b[0m\u001b[1;39;49m]\u001b[0m\u001b[39;49m A new release of pip is available: \u001b[0m\u001b[31;49m24.0\u001b[0m\u001b[39;49m -> \u001b[0m\u001b[32;49m24.3.1\u001b[0m\n",
      "\u001b[1m[\u001b[0m\u001b[34;49mnotice\u001b[0m\u001b[1;39;49m]\u001b[0m\u001b[39;49m To update, run: \u001b[0m\u001b[32;49mpip install --upgrade pip\u001b[0m\n"
     ]
    }
   ],
   "source": [
    "!pip install scispacy"
   ]
  },
  {
   "cell_type": "code",
   "execution_count": 78,
   "metadata": {},
   "outputs": [],
   "source": [
    "import spacy\n",
    "import scispacy\n",
    "# base spacy model\n",
    "nlp = spacy.load(\"en_core_web_sm\")\n",
    "# create Language model containg all components to process text\n",
    "sci_nlp = spacy.load(\"en_ner_bc5cdr_md\")"
   ]
  },
  {
   "cell_type": "code",
   "execution_count": 131,
   "metadata": {},
   "outputs": [],
   "source": [
    "class phi:\n",
    "    def __init__(self,file_path):\n",
    "        self.file_path = file_path\n",
    "        self.content = None\n",
    "        \n",
    "    # read file and handle errors \n",
    "    def _read_file(self):\n",
    "        try:\n",
    "            with open(self.file_path) as file:\n",
    "                self.content = file.read()\n",
    "                return (self.content) \n",
    "        except FileNotFoundError:\n",
    "            print(\"File not found\")\n",
    "        except Exception as e:\n",
    "            print(e)\n",
    "            self.content = None\n",
    "    # print file\n",
    "    def display_file(self):\n",
    "        if self.content is None:\n",
    "            self._read_file()\n",
    "        print(\"FILE CONTENT:\")\n",
    "        print(self.content)   \n",
    "        \n",
    "    # Natural Entity Recognition (NER) on file\n",
    "    def extract_PHI(self):\n",
    "        doc = sci_nlp(self.content)\n",
    "        print(\"IDENTIFIED PHI ELEMENTS:\")\n",
    "        return([(ent.text, ent.label_,(ent.start_char,ent.end_char)) for ent in doc.ents])"
   ]
  },
  {
   "attachments": {},
   "cell_type": "markdown",
   "metadata": {},
   "source": [
    "## Testing \"out of box\" capabilities "
   ]
  },
  {
   "cell_type": "code",
   "execution_count": 38,
   "metadata": {},
   "outputs": [
    {
     "name": "stdout",
     "output_type": "stream",
     "text": [
      "FILE CONTENT:\n",
      "\n",
      "Patient Account Number: A12345B678\n",
      "Patient Admission Date: 10/12/2023\n",
      "Patient Discharge Date: 10/14/2023\n",
      "Patient Medical Record Number: MRN12345678\n",
      "Patient Health Plan Beneficiary Number: HPBN98765432\n",
      "\n",
      "Diagnosis: Hypertension, Type 2 Diabetes\n",
      "Treatment Plan: Prescribed antihypertensive medication, lifestyle changes, insulin therapy\n",
      "\n",
      "Billing Information:\n",
      "\n",
      "1. Office Visit - $200.00\n",
      "2. Blood Tests - $150.00\n",
      "3. MRI Scan - $450.00\n",
      "4. Medication - $100.00\n",
      "Total: $900.00\n",
      "\n",
      "\n",
      "MRI Scan Results:\n",
      "MRI shows mild lumbar disc bulge at L4-L5 with no signs of nerve impingement.\n",
      "\n",
      "Blood Test Results:\n",
      "Blood glucose level: 145 mg/dL, Cholesterol: 220 mg/dL, Hemoglobin A1c: 7.2%\n",
      "\n",
      "Prescribed Dosage Information:\n",
      "100 mg of Metformin twice daily, 5 mg of Lisinopril once daily\n",
      "\n",
      "Prescribed Medications:\n",
      "Metformin, Lisinopril, Aspirin\n",
      "\n",
      "Pre-existing Condition Information:\n",
      "Chronic Hypertension, Type 2 Diabetes\n",
      "\n",
      "Mental Health Information:\n",
      "Patient reports feeling anxious and stressed due to recent family health issues.\n",
      "\n",
      "Immunization Records:\n",
      "Influenza vaccine: 10/05/2023, COVID-19 booster: 11/01/2023\n",
      "\n",
      "IDENTIFIED PHI ELEMENTS:\n"
     ]
    },
    {
     "data": {
      "text/plain": [
       "[('Hypertension', 'DISEASE', (214, 226)),\n",
       " ('Diabetes', 'DISEASE', (235, 243)),\n",
       " ('insulin', 'CHEMICAL', (319, 326)),\n",
       " ('nerve impingement', 'DISEASE', (549, 566)),\n",
       " ('glucose', 'CHEMICAL', (595, 602)),\n",
       " ('Cholesterol', 'CHEMICAL', (621, 632)),\n",
       " ('Metformin', 'CHEMICAL', (708, 717)),\n",
       " ('Lisinopril', 'CHEMICAL', (739, 749)),\n",
       " ('Metformin', 'CHEMICAL', (786, 795)),\n",
       " ('Lisinopril', 'CHEMICAL', (797, 807)),\n",
       " ('Aspirin', 'CHEMICAL', (809, 816)),\n",
       " ('Hypertension', 'DISEASE', (862, 874)),\n",
       " ('Type 2 Diabetes\\n\\n', 'DISEASE', (876, 893))]"
      ]
     },
     "execution_count": 38,
     "metadata": {},
     "output_type": "execute_result"
    }
   ],
   "source": [
    "# extract PHI info for phi_sample.txt\n",
    "phi1 = phi(\"phi_sample.txt\")\n",
    "phi1.display_file()\n",
    "phi1.extract_PHI()"
   ]
  },
  {
   "cell_type": "code",
   "execution_count": 129,
   "metadata": {},
   "outputs": [
    {
     "name": "stdout",
     "output_type": "stream",
     "text": [
      "FILE CONTENT:\n",
      "Patient Name: John Doe  \n",
      "Age: 54  \n",
      "Date of Visit: 2024-11-26  \n",
      "\n",
      "**Diagnosis:**  \n",
      "Mr. John Doe was diagnosed with Type 2 Diabetes and Hypertension. Additionally, he showed early signs of chronic kidney disease based on lab results.\n",
      "\n",
      "**Treatment Plan:**  \n",
      "The patient is advised to follow a low-sodium, low-carb diet, exercise daily, and monitor blood sugar levels twice a day. A follow-up visit is scheduled in three months.  \n",
      "\n",
      "**Billing Information:**  \n",
      "- Initial consultation: $150  \n",
      "- Blood tests: $200  \n",
      "- MRI scan: $800  \n",
      "**Total Bill:** $1,150  \n",
      "\n",
      "**MRI Results:**  \n",
      "MRI scans showed minor ischemic changes in the brain indicative of age-related conditions. No evidence of acute stroke.  \n",
      "\n",
      "**Blood Test Results:**  \n",
      "- Fasting glucose: 140 mg/dL (high)  \n",
      "- HbA1c: 7.8% (high)  \n",
      "- Serum creatinine: 1.4 mg/dL (high)  \n",
      "\n",
      "**Prescribed Dosage Information:**  \n",
      "- Metformin 500 mg, twice a day  \n",
      "- Losartan 50 mg, once a day  \n",
      "\n",
      "**Medications Prescribed:**  \n",
      "- Metformin  \n",
      "- Losartan  \n",
      "\n",
      "**Pre-existing Conditions:**  \n",
      "The patient has a history of hyperlipidemia and mild anxiety disorder.  \n",
      "\n",
      "**Mental Health Notes:**  \n",
      "The patient reported feeling “overwhelmed” due to caregiving responsibilities for his spouse. Referred to counseling services for stress management.  \n",
      "\n",
      "**Immunization Records:**  \n",
      "The patient is up to date with flu and COVID-19 vaccines. Needs a shingles vaccine at the next visit.\n",
      "\n",
      "IDENTIFIED PHI ELEMENTS:\n"
     ]
    },
    {
     "data": {
      "text/plain": [
       "[('Type 2 Diabetes', 'DISEASE', (113, 128)),\n",
       " ('Hypertension', 'DISEASE', (133, 145)),\n",
       " ('chronic kidney disease', 'DISEASE', (186, 208)),\n",
       " ('low-sodium', 'CHEMICAL', (289, 299)),\n",
       " ('acute stroke', 'DISEASE', (677, 689)),\n",
       " ('glucose', 'CHEMICAL', (730, 737)),\n",
       " ('140', 'CHEMICAL', (739, 742)),\n",
       " ('creatinine', 'CHEMICAL', (789, 799)),\n",
       " ('Metformin', 'CHEMICAL', (860, 869)),\n",
       " ('Losartan', 'CHEMICAL', (894, 902)),\n",
       " ('Metformin', 'CHEMICAL', (956, 965)),\n",
       " ('Losartan', 'CHEMICAL', (970, 978)),\n",
       " ('hyperlipidemia', 'DISEASE', (1042, 1056)),\n",
       " ('anxiety disorder', 'DISEASE', (1066, 1082)),\n",
       " ('Referred', 'DISEASE', (1208, 1216)),\n",
       " ('shingles vaccine', 'CHEMICAL', (1360, 1376))]"
      ]
     },
     "execution_count": 129,
     "metadata": {},
     "output_type": "execute_result"
    }
   ],
   "source": [
    "# extract PHI info for patient_visit.txt\n",
    "phi2 = phi(\"patient_visit.txt\")\n",
    "phi2.display_file()\n",
    "phi2.extract_PHI()"
   ]
  },
  {
   "attachments": {},
   "cell_type": "markdown",
   "metadata": {},
   "source": [
    "# Rule based matching to extract prescriptions with dosage as well as results\n",
    "* We can add custom rules to extract specific data"
   ]
  },
  {
   "cell_type": "code",
   "execution_count": 126,
   "metadata": {},
   "outputs": [
    {
     "name": "stdout",
     "output_type": "stream",
     "text": [
      "IDENTIFIED PHI ELEMENTS:\n",
      "('Metformin', 'CHEMICAL', (860, 869))\n",
      "('Metformin', 'CHEMICAL', (956, 965))\n"
     ]
    }
   ],
   "source": [
    "# notice how prescription of Metaformin 500 mg is not being extracted fully\n",
    "for elem in phi2.extract_PHI():\n",
    "    if 'Metformin' in elem:\n",
    "        print(elem)"
   ]
  },
  {
   "cell_type": "code",
   "execution_count": 132,
   "metadata": {},
   "outputs": [
    {
     "name": "stdout",
     "output_type": "stream",
     "text": [
      "Match: Metformin 500 mg (from 206 to 209)\n",
      "Match: Losartan 50 mg (from 215 to 218)\n"
     ]
    }
   ],
   "source": [
    "from spacy.matcher import Matcher\n",
    "from spacy.tokens import Span\n",
    "'''\n",
    "    we can add a new rule/pattern to identify drugs w/ its associated dosage \n",
    "    and add it to the pipeline so it is recognized as an entity\n",
    "    \n",
    "    this pattern matches:\n",
    "        Chemical Entity (drug) followed by a number (dosage) and ASCII chars (unit of dose)\n",
    "'''\n",
    "from spacy.matcher import Matcher\n",
    "# this pattern matches a Chemical entity (drug) followed by a number (the dosage) and token of ASCII characters (unit of dose)\n",
    "dosage_pattern = [{'ENT_TYPE':'CHEMICAL'},{'LIKE_NUM': True}, {'IS_ASCII': True}]\n",
    "# create matcher obj against spacy's vocab (collection of all tokens)\n",
    "matcher = Matcher(sci_nlp.vocab)\n",
    "# add pattern to matcher\n",
    "matcher.add(\"PRESCRIPTION\", [dosage_pattern])\n",
    "doc = sci_nlp(phi2._read_file())\n",
    "\n",
    "matches = matcher(doc)  # Get all matched patterns\n",
    "for match_id, start, end in matches:\n",
    "    span = doc[start:end]\n",
    "    print(f\"Match: {span.text} (from {start} to {end})\")"
   ]
  },
  {
   "cell_type": "code",
   "execution_count": 119,
   "metadata": {},
   "outputs": [
    {
     "data": {
      "text/plain": [
       "<function __main__.add_prescription_entities(doc)>"
      ]
     },
     "execution_count": 119,
     "metadata": {},
     "output_type": "execute_result"
    }
   ],
   "source": [
    "# #we can add rules to match drugs, with its associated dosage\n",
    "# # we are going to add a new pattern for our model to extract call \"prescription\"\n",
    "# from spacy.matcher import Matcher\n",
    "# from spacy.tokens import Span\n",
    "# from spacy.language import Language\n",
    "\n",
    "\n",
    "# '''\n",
    "#     we can add a new rule/pattern to identify drugs w/ its associated dosage \n",
    "#     and add it to the pipeline so it is recognized as an entity\n",
    "    \n",
    "#     this pattern matches:\n",
    "#         Chemical Entity (drug) followed by a number (dosage) and ASCII chars (unit of dose)\n",
    "# '''\n",
    "# dosage_pattern = [{'ENT_TYPE':'CHEMICAL'},{'LIKE_NUM': True}, {'IS_ASCII': True}]\n",
    "\n",
    "# # create matcher obj against (sci)spacy's vocab (collection of all tokens)\n",
    "# matcher = Matcher(sci_nlp.vocab)\n",
    "# # add pattern to matcher\n",
    "# matcher.add(\"PRESCRIPTION\", [dosage_pattern])\n",
    "# # define function to add matched prescriptions as entities \n",
    "# @Language.component(\"prescription_component\")\n",
    "# def add_prescription_entities(doc):\n",
    "#     # apply matcher to doc obj to get matches\n",
    "#     matches = matcher(doc)\n",
    "#     # store new entities we will be returning\n",
    "#     new_ents = []\n",
    "#     for match_id, start, end, in matches:\n",
    "#         # get match as slice of doc\n",
    "#         span = doc[start:end]\n",
    "#         # create new entity \n",
    "#         new_ents.append(Span(doc,start, end, label=\"PRESCRIPTION\"))\n",
    "#     # add entity to doc.ents (named entities)\n",
    "#     # doc.ents = list(doc.ents) + new_ents\n",
    "#     doc.ents = list(doc.ents)+ spacy.util.filter_spans(new_ents) \n",
    "\n",
    "    \n",
    "#     return doc\n",
    "# # add custom fun to add prescription entities to pipeline after inital NER\n",
    "# sci_nlp.add_pipe(\"prescription_component\",last= True)\n",
    "# # add new entities to docs.ents    \n",
    "    "
   ]
  },
  {
   "attachments": {},
   "cell_type": "markdown",
   "metadata": {},
   "source": [
    "# Extracting Chemical, Disease, and Prescrpitions"
   ]
  },
  {
   "cell_type": "code",
   "execution_count": 118,
   "metadata": {},
   "outputs": [
    {
     "name": "stdout",
     "output_type": "stream",
     "text": [
      "Component name: tok2vec, Component: <spacy.pipeline.tok2vec.Tok2Vec object at 0x133a500b0>\n",
      "Component name: tagger, Component: <spacy.pipeline.tagger.Tagger object at 0x133a50ad0>\n",
      "Component name: attribute_ruler, Component: <spacy.pipeline.attributeruler.AttributeRuler object at 0x1336c7010>\n",
      "Component name: lemmatizer, Component: <spacy.lang.en.lemmatizer.EnglishLemmatizer object at 0x1337393d0>\n",
      "Component name: parser, Component: <spacy.pipeline.dep_parser.DependencyParser object at 0x133b39000>\n",
      "Component name: ner, Component: <spacy.pipeline.ner.EntityRecognizer object at 0x133b38e40>\n"
     ]
    }
   ],
   "source": [
    "# Display all components in the pipeline\n",
    "for name, component in sci_nlp.pipeline:\n",
    "    print(f\"Component name: {name}, Component: {component}\")\n"
   ]
  },
  {
   "cell_type": "code",
   "execution_count": 125,
   "metadata": {},
   "outputs": [
    {
     "data": {
      "text/plain": [
       "('prescription_component', <function __main__.add_prescription_entities(doc)>)"
      ]
     },
     "execution_count": 125,
     "metadata": {},
     "output_type": "execute_result"
    }
   ],
   "source": [
    "# sci_nlp.remove_pipe(\"prescription_component\")\n",
    "# sci_nlp.remove_pipe(\"prescription_component1\")\n",
    "# sci_nlp.remove_pipe(\"prescription_component2\")\n",
    "sci_nlp.remove_pipe(\"prescription_component\")\n",
    "\n"
   ]
  },
  {
   "cell_type": "code",
   "execution_count": null,
   "metadata": {},
   "outputs": [],
   "source": []
  }
 ],
 "metadata": {
  "kernelspec": {
   "display_name": "spacy_env",
   "language": "python",
   "name": "python3"
  },
  "language_info": {
   "codemirror_mode": {
    "name": "ipython",
    "version": 3
   },
   "file_extension": ".py",
   "mimetype": "text/x-python",
   "name": "python",
   "nbconvert_exporter": "python",
   "pygments_lexer": "ipython3",
   "version": "3.12.4"
  },
  "orig_nbformat": 4
 },
 "nbformat": 4,
 "nbformat_minor": 2
}
